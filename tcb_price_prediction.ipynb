{
  "nbformat": 4,
  "nbformat_minor": 0,
  "metadata": {
    "colab": {
      "name": "tcb-price-prediction.ipynb",
      "provenance": [],
      "collapsed_sections": [],
      "mount_file_id": "1q9OUgH9Sh8GCaQqrKJIWIjM5qo5Zp1HC",
      "authorship_tag": "ABX9TyP5pZxH97sUXSxLgA9+IiHq",
      "include_colab_link": true
    },
    "kernelspec": {
      "name": "python3",
      "display_name": "Python 3"
    },
    "language_info": {
      "name": "python"
    },
    "accelerator": "GPU",
    "gpuClass": "standard"
  },
  "cells": [
    {
      "cell_type": "markdown",
      "metadata": {
        "id": "view-in-github",
        "colab_type": "text"
      },
      "source": [
        "<a href=\"https://colab.research.google.com/github/namfamishere/techcombank-stock-price-prediction/blob/main/tcb_price_prediction.ipynb\" target=\"_parent\"><img src=\"https://colab.research.google.com/assets/colab-badge.svg\" alt=\"Open In Colab\"/></a>"
      ]
    },
    {
      "cell_type": "markdown",
      "source": [
        "# Setup Spark"
      ],
      "metadata": {
        "id": "4lyFRoboshr4"
      }
    },
    {
      "cell_type": "code",
      "source": [
        "cd/content/drive/MyDrive/spark"
      ],
      "metadata": {
        "colab": {
          "base_uri": "https://localhost:8080/"
        },
        "id": "130P7gfFnit7",
        "outputId": "4d11b20c-d66a-436a-ade0-2025936283f5"
      },
      "execution_count": 12,
      "outputs": [
        {
          "output_type": "stream",
          "name": "stdout",
          "text": [
            "/content/drive/MyDrive/spark\n"
          ]
        }
      ]
    },
    {
      "cell_type": "code",
      "source": [
        "!sudo apt update\n",
        "!apt-get install openjdk-8-jdk-headless -qq\n",
        "!wget -q https://dlcdn.apache.org/spark/spark-3.3.0/spark-3.3.0-bin-hadoop3.tgz\n",
        "!tar xf spark-3.3.0-bin-hadoop3.tgz\n",
        "!pip install -q findspark\n",
        "!pip install pyspark\n"
      ],
      "metadata": {
        "colab": {
          "base_uri": "https://localhost:8080/"
        },
        "id": "gV2rdaYpiG4L",
        "outputId": "12b12ce4-56dd-4aed-b5f9-64eccec2487e"
      },
      "execution_count": 13,
      "outputs": [
        {
          "output_type": "stream",
          "name": "stdout",
          "text": [
            "\u001b[33m\r0% [Working]\u001b[0m\r            \rGet:1 http://security.ubuntu.com/ubuntu bionic-security InRelease [88.7 kB]\n",
            "\u001b[33m\r0% [Connecting to archive.ubuntu.com (185.125.190.39)] [1 InRelease 14.2 kB/88.\u001b[0m\r                                                                               \rGet:2 https://cloud.r-project.org/bin/linux/ubuntu bionic-cran40/ InRelease [3,626 B]\n",
            "\u001b[33m\r0% [Connecting to archive.ubuntu.com (185.125.190.39)] [1 InRelease 20.0 kB/88.\u001b[0m\u001b[33m\r0% [Connecting to archive.ubuntu.com (185.125.190.39)] [1 InRelease 37.3 kB/88.\u001b[0m\u001b[33m\r0% [2 InRelease gpgv 3,626 B] [Connecting to archive.ubuntu.com (185.125.190.39\u001b[0m\r                                                                               \rHit:3 https://developer.download.nvidia.com/compute/cuda/repos/ubuntu1804/x86_64  InRelease\n",
            "\u001b[33m\r0% [2 InRelease gpgv 3,626 B] [Connecting to archive.ubuntu.com (185.125.190.39\u001b[0m\u001b[33m\r0% [2 InRelease gpgv 3,626 B] [Connecting to archive.ubuntu.com (185.125.190.39\u001b[0m\r                                                                               \rHit:4 http://archive.ubuntu.com/ubuntu bionic InRelease\n",
            "Get:5 http://ppa.launchpad.net/c2d4u.team/c2d4u4.0+/ubuntu bionic InRelease [15.9 kB]\n",
            "Get:6 https://cloud.r-project.org/bin/linux/ubuntu bionic-cran40/ Packages [87.8 kB]\n",
            "Get:7 http://archive.ubuntu.com/ubuntu bionic-updates InRelease [88.7 kB]\n",
            "Ign:8 https://developer.download.nvidia.com/compute/machine-learning/repos/ubuntu1804/x86_64  InRelease\n",
            "Hit:9 https://developer.download.nvidia.com/compute/machine-learning/repos/ubuntu1804/x86_64  Release\n",
            "Get:10 http://security.ubuntu.com/ubuntu bionic-security/main amd64 Packages [2,905 kB]\n",
            "Hit:11 http://ppa.launchpad.net/cran/libgit2/ubuntu bionic InRelease\n",
            "Get:12 http://security.ubuntu.com/ubuntu bionic-security/universe amd64 Packages [1,527 kB]\n",
            "Get:13 http://archive.ubuntu.com/ubuntu bionic-backports InRelease [74.6 kB]\n",
            "Hit:14 http://ppa.launchpad.net/deadsnakes/ppa/ubuntu bionic InRelease\n",
            "Hit:15 http://ppa.launchpad.net/graphics-drivers/ppa/ubuntu bionic InRelease\n",
            "Get:17 http://ppa.launchpad.net/c2d4u.team/c2d4u4.0+/ubuntu bionic/main amd64 Packages [1,063 kB]\n",
            "Get:18 http://archive.ubuntu.com/ubuntu bionic-updates/universe amd64 Packages [2,306 kB]\n",
            "Get:19 http://archive.ubuntu.com/ubuntu bionic-updates/main amd64 Packages [3,336 kB]\n",
            "Fetched 11.5 MB in 2s (6,362 kB/s)\n",
            "Reading package lists... Done\n",
            "Building dependency tree       \n",
            "Reading state information... Done\n",
            "55 packages can be upgraded. Run 'apt list --upgradable' to see them.\n",
            "Selecting previously unselected package openjdk-8-jre-headless:amd64.\n",
            "(Reading database ... 155673 files and directories currently installed.)\n",
            "Preparing to unpack .../openjdk-8-jre-headless_8u312-b07-0ubuntu1~18.04_amd64.deb ...\n",
            "Unpacking openjdk-8-jre-headless:amd64 (8u312-b07-0ubuntu1~18.04) ...\n",
            "Selecting previously unselected package openjdk-8-jdk-headless:amd64.\n",
            "Preparing to unpack .../openjdk-8-jdk-headless_8u312-b07-0ubuntu1~18.04_amd64.deb ...\n",
            "Unpacking openjdk-8-jdk-headless:amd64 (8u312-b07-0ubuntu1~18.04) ...\n",
            "Setting up openjdk-8-jre-headless:amd64 (8u312-b07-0ubuntu1~18.04) ...\n",
            "update-alternatives: using /usr/lib/jvm/java-8-openjdk-amd64/jre/bin/orbd to provide /usr/bin/orbd (orbd) in auto mode\n",
            "update-alternatives: using /usr/lib/jvm/java-8-openjdk-amd64/jre/bin/servertool to provide /usr/bin/servertool (servertool) in auto mode\n",
            "update-alternatives: using /usr/lib/jvm/java-8-openjdk-amd64/jre/bin/tnameserv to provide /usr/bin/tnameserv (tnameserv) in auto mode\n",
            "Setting up openjdk-8-jdk-headless:amd64 (8u312-b07-0ubuntu1~18.04) ...\n",
            "update-alternatives: using /usr/lib/jvm/java-8-openjdk-amd64/bin/idlj to provide /usr/bin/idlj (idlj) in auto mode\n",
            "update-alternatives: using /usr/lib/jvm/java-8-openjdk-amd64/bin/wsimport to provide /usr/bin/wsimport (wsimport) in auto mode\n",
            "update-alternatives: using /usr/lib/jvm/java-8-openjdk-amd64/bin/jsadebugd to provide /usr/bin/jsadebugd (jsadebugd) in auto mode\n",
            "update-alternatives: using /usr/lib/jvm/java-8-openjdk-amd64/bin/native2ascii to provide /usr/bin/native2ascii (native2ascii) in auto mode\n",
            "update-alternatives: using /usr/lib/jvm/java-8-openjdk-amd64/bin/javah to provide /usr/bin/javah (javah) in auto mode\n",
            "update-alternatives: using /usr/lib/jvm/java-8-openjdk-amd64/bin/hsdb to provide /usr/bin/hsdb (hsdb) in auto mode\n",
            "update-alternatives: using /usr/lib/jvm/java-8-openjdk-amd64/bin/clhsdb to provide /usr/bin/clhsdb (clhsdb) in auto mode\n",
            "update-alternatives: using /usr/lib/jvm/java-8-openjdk-amd64/bin/xjc to provide /usr/bin/xjc (xjc) in auto mode\n",
            "update-alternatives: using /usr/lib/jvm/java-8-openjdk-amd64/bin/schemagen to provide /usr/bin/schemagen (schemagen) in auto mode\n",
            "update-alternatives: using /usr/lib/jvm/java-8-openjdk-amd64/bin/extcheck to provide /usr/bin/extcheck (extcheck) in auto mode\n",
            "update-alternatives: using /usr/lib/jvm/java-8-openjdk-amd64/bin/jhat to provide /usr/bin/jhat (jhat) in auto mode\n",
            "update-alternatives: using /usr/lib/jvm/java-8-openjdk-amd64/bin/wsgen to provide /usr/bin/wsgen (wsgen) in auto mode\n",
            "Looking in indexes: https://pypi.org/simple, https://us-python.pkg.dev/colab-wheels/public/simple/\n",
            "Requirement already satisfied: pyspark in /usr/local/lib/python3.7/dist-packages (3.3.0)\n",
            "Requirement already satisfied: py4j==0.10.9.5 in /usr/local/lib/python3.7/dist-packages (from pyspark) (0.10.9.5)\n"
          ]
        }
      ]
    },
    {
      "cell_type": "code",
      "source": [
        "!pip install findspark"
      ],
      "metadata": {
        "colab": {
          "base_uri": "https://localhost:8080/"
        },
        "id": "FVetLtZ6MsIF",
        "outputId": "8ee6a1dd-3ada-4970-b4cb-6511530c7f03"
      },
      "execution_count": 14,
      "outputs": [
        {
          "output_type": "stream",
          "name": "stdout",
          "text": [
            "Looking in indexes: https://pypi.org/simple, https://us-python.pkg.dev/colab-wheels/public/simple/\n",
            "Requirement already satisfied: findspark in /usr/local/lib/python3.7/dist-packages (2.0.1)\n"
          ]
        }
      ]
    },
    {
      "cell_type": "code",
      "source": [
        "!pip install pyspark\n"
      ],
      "metadata": {
        "colab": {
          "base_uri": "https://localhost:8080/"
        },
        "id": "XYh_XKIiNG9c",
        "outputId": "395df9ae-0f83-4fd0-d4a3-8355bcbf88b7"
      },
      "execution_count": 15,
      "outputs": [
        {
          "output_type": "stream",
          "name": "stdout",
          "text": [
            "Looking in indexes: https://pypi.org/simple, https://us-python.pkg.dev/colab-wheels/public/simple/\n",
            "Requirement already satisfied: pyspark in /usr/local/lib/python3.7/dist-packages (3.3.0)\n",
            "Requirement already satisfied: py4j==0.10.9.5 in /usr/local/lib/python3.7/dist-packages (from pyspark) (0.10.9.5)\n"
          ]
        }
      ]
    },
    {
      "cell_type": "code",
      "source": [
        "\n",
        "import os\n",
        "os.environ[\"JAVA_HOME\"] = \"/usr/lib/jvm/java-8-openjdk-amd64\"\n",
        "os.environ[\"SPARK_HOME\"] = \"/content/drive/MyDrive/spark/spark-3.3.0-bin-hadoop3\"\n",
        "\n",
        "import findspark\n",
        "findspark.init()\n",
        "findspark.find()\n"
      ],
      "metadata": {
        "colab": {
          "base_uri": "https://localhost:8080/",
          "height": 36
        },
        "id": "PHbyEs51iKEp",
        "outputId": "bfa27887-197c-4bff-9299-0affbc2ae082"
      },
      "execution_count": 16,
      "outputs": [
        {
          "output_type": "execute_result",
          "data": {
            "text/plain": [
              "'/content/drive/MyDrive/spark/spark-3.3.0-bin-hadoop3'"
            ],
            "application/vnd.google.colaboratory.intrinsic+json": {
              "type": "string"
            }
          },
          "metadata": {},
          "execution_count": 16
        }
      ]
    },
    {
      "cell_type": "code",
      "source": [
        "from pyspark.sql import SparkSession\n",
        "\n",
        "spark = SparkSession.builder\\\n",
        "        .master(\"local\")\\\n",
        "        .appName(\"StockMarket\")\\\n",
        "        .config('spark.ui.port', '4050')\\\n",
        "        .getOrCreate()"
      ],
      "metadata": {
        "id": "6KP2medJn-vR"
      },
      "execution_count": 17,
      "outputs": []
    },
    {
      "cell_type": "code",
      "source": [
        "spark"
      ],
      "metadata": {
        "colab": {
          "base_uri": "https://localhost:8080/",
          "height": 222
        },
        "id": "tpD_cV5joBUD",
        "outputId": "cbc07fe4-04ab-448e-f4fa-ee33b58d17b7"
      },
      "execution_count": 18,
      "outputs": [
        {
          "output_type": "execute_result",
          "data": {
            "text/plain": [
              "<pyspark.sql.session.SparkSession at 0x7f44a6375650>"
            ],
            "text/html": [
              "\n",
              "            <div>\n",
              "                <p><b>SparkSession - in-memory</b></p>\n",
              "                \n",
              "        <div>\n",
              "            <p><b>SparkContext</b></p>\n",
              "\n",
              "            <p><a href=\"http://8d3a1861227a:4050\">Spark UI</a></p>\n",
              "\n",
              "            <dl>\n",
              "              <dt>Version</dt>\n",
              "                <dd><code>v3.3.0</code></dd>\n",
              "              <dt>Master</dt>\n",
              "                <dd><code>local</code></dd>\n",
              "              <dt>AppName</dt>\n",
              "                <dd><code>StockMarket</code></dd>\n",
              "            </dl>\n",
              "        </div>\n",
              "        \n",
              "            </div>\n",
              "        "
            ]
          },
          "metadata": {},
          "execution_count": 18
        }
      ]
    },
    {
      "cell_type": "markdown",
      "source": [
        "Create public URL for the UI page for Spark UI"
      ],
      "metadata": {
        "id": "3EkgzhZHka_o"
      }
    },
    {
      "cell_type": "code",
      "source": [
        "!wget https://bin.equinox.io/c/4VmDzA7iaHb/ngrok-stable-linux-amd64.zip\n",
        "!unzip ngrok-stable-linux-amd64.zip\n"
      ],
      "metadata": {
        "colab": {
          "base_uri": "https://localhost:8080/"
        },
        "id": "q8Iv6qFwnY2b",
        "outputId": "4c80048d-6472-443c-aa36-46163191c0a5"
      },
      "execution_count": 25,
      "outputs": [
        {
          "output_type": "stream",
          "name": "stdout",
          "text": [
            "--2022-07-31 12:26:46--  https://bin.equinox.io/c/4VmDzA7iaHb/ngrok-stable-linux-amd64.zip\n",
            "Resolving bin.equinox.io (bin.equinox.io)... 54.161.241.46, 52.202.168.65, 54.237.133.81, ...\n",
            "Connecting to bin.equinox.io (bin.equinox.io)|54.161.241.46|:443... connected.\n",
            "HTTP request sent, awaiting response... 200 OK\n",
            "Length: 13832437 (13M) [application/octet-stream]\n",
            "Saving to: ‘ngrok-stable-linux-amd64.zip.2’\n",
            "\n",
            "ngrok-stable-linux- 100%[===================>]  13.19M  49.0MB/s    in 0.3s    \n",
            "\n",
            "2022-07-31 12:26:46 (49.0 MB/s) - ‘ngrok-stable-linux-amd64.zip.2’ saved [13832437/13832437]\n",
            "\n",
            "Archive:  ngrok-stable-linux-amd64.zip\n",
            "replace ngrok? [y]es, [n]o, [A]ll, [N]one, [r]ename: 7\n",
            "error:  invalid response [7]\n",
            "replace ngrok? [y]es, [n]o, [A]ll, [N]one, [r]ename: y\n",
            "  inflating: ngrok                   \n"
          ]
        }
      ]
    },
    {
      "cell_type": "code",
      "source": [
        "!./ngrok authtoken 2CdF7gVNlyMHcpH9wMymZ6OANI8_6ijVA8o4TiZUyvbFH9KKx"
      ],
      "metadata": {
        "colab": {
          "base_uri": "https://localhost:8080/"
        },
        "id": "29NI48dmoYn4",
        "outputId": "13f3ac7b-95fe-4f72-abd1-d4cd1f762b68"
      },
      "execution_count": 27,
      "outputs": [
        {
          "output_type": "stream",
          "name": "stdout",
          "text": [
            "Authtoken saved to configuration file: /root/.ngrok2/ngrok.yml\n"
          ]
        }
      ]
    },
    {
      "cell_type": "code",
      "source": [
        "get_ipython().system_raw('./ngrok http 4050 &')\n",
        "!curl -s http://localhost:4040/api/tunnels | python3 -c   \"import sys, json; print(json.load(sys.stdin)['tunnels'][0]['public_url'])\""
      ],
      "metadata": {
        "colab": {
          "base_uri": "https://localhost:8080/"
        },
        "id": "gJrKIdmZdJUr",
        "outputId": "5cda5f49-3c28-48e9-feca-9bd1bf43e487"
      },
      "execution_count": 31,
      "outputs": [
        {
          "output_type": "stream",
          "name": "stdout",
          "text": [
            "Traceback (most recent call last):\n",
            "  File \"<string>\", line 1, in <module>\n",
            "  File \"/usr/lib/python3.7/json/__init__.py\", line 296, in load\n",
            "    parse_constant=parse_constant, object_pairs_hook=object_pairs_hook, **kw)\n",
            "  File \"/usr/lib/python3.7/json/__init__.py\", line 348, in loads\n",
            "    return _default_decoder.decode(s)\n",
            "  File \"/usr/lib/python3.7/json/decoder.py\", line 337, in decode\n",
            "    obj, end = self.raw_decode(s, idx=_w(s, 0).end())\n",
            "  File \"/usr/lib/python3.7/json/decoder.py\", line 355, in raw_decode\n",
            "    raise JSONDecodeError(\"Expecting value\", s, err.value) from None\n",
            "json.decoder.JSONDecodeError: Expecting value: line 1 column 1 (char 0)\n"
          ]
        }
      ]
    },
    {
      "cell_type": "code",
      "source": [
        "get_ipython().system_raw('./ngrok http 4050 &')\n",
        "! curl -s http://localhost:4040/api/tunnels | python3 -c \\\n",
        "    \"import sys, json; print(json.load(sys.stdin)['tunnels'][0]['public_url'])\""
      ],
      "metadata": {
        "colab": {
          "base_uri": "https://localhost:8080/"
        },
        "id": "wDujacCto91z",
        "outputId": "6bd179ca-c5ec-4c80-9e7c-b88069b7ac2f"
      },
      "execution_count": 29,
      "outputs": [
        {
          "output_type": "stream",
          "name": "stdout",
          "text": [
            "Traceback (most recent call last):\n",
            "  File \"<string>\", line 1, in <module>\n",
            "  File \"/usr/lib/python3.7/json/__init__.py\", line 296, in load\n",
            "    parse_constant=parse_constant, object_pairs_hook=object_pairs_hook, **kw)\n",
            "  File \"/usr/lib/python3.7/json/__init__.py\", line 348, in loads\n",
            "    return _default_decoder.decode(s)\n",
            "  File \"/usr/lib/python3.7/json/decoder.py\", line 337, in decode\n",
            "    obj, end = self.raw_decode(s, idx=_w(s, 0).end())\n",
            "  File \"/usr/lib/python3.7/json/decoder.py\", line 355, in raw_decode\n",
            "    raise JSONDecodeError(\"Expecting value\", s, err.value) from None\n",
            "json.decoder.JSONDecodeError: Expecting value: line 1 column 1 (char 0)\n"
          ]
        }
      ]
    },
    {
      "cell_type": "markdown",
      "source": [
        "# Dataset Exploration"
      ],
      "metadata": {
        "id": "LKPVJq58sdDH"
      }
    },
    {
      "cell_type": "code",
      "source": [
        "df_aapl = spark.read.csv(\"/content/drive/MyDrive/techcombank-stock-price-prediction/AAPL.csv\",header=True, inferSchema=True)"
      ],
      "metadata": {
        "id": "Af72aQMErF8s"
      },
      "execution_count": 32,
      "outputs": []
    },
    {
      "cell_type": "code",
      "source": [
        "df_aapl.printSchema()"
      ],
      "metadata": {
        "colab": {
          "base_uri": "https://localhost:8080/"
        },
        "id": "xv37QCVXsFn3",
        "outputId": "1ab70619-382b-4f22-e568-82694fdc01c5"
      },
      "execution_count": 34,
      "outputs": [
        {
          "output_type": "stream",
          "name": "stdout",
          "text": [
            "root\n",
            " |-- Date: timestamp (nullable = true)\n",
            " |-- Open: double (nullable = true)\n",
            " |-- High: double (nullable = true)\n",
            " |-- Low: double (nullable = true)\n",
            " |-- Close: double (nullable = true)\n",
            " |-- Adj Close: double (nullable = true)\n",
            " |-- Volume: long (nullable = true)\n",
            "\n"
          ]
        }
      ]
    },
    {
      "cell_type": "code",
      "source": [
        "df_aapl.show()"
      ],
      "metadata": {
        "colab": {
          "base_uri": "https://localhost:8080/"
        },
        "id": "9LrRbHC8sTdQ",
        "outputId": "628994e7-6658-4c01-803c-6ed792fe033f"
      },
      "execution_count": 35,
      "outputs": [
        {
          "output_type": "stream",
          "name": "stdout",
          "text": [
            "+-------------------+--------+--------+--------+--------+---------+----------+\n",
            "|               Date|    Open|    High|     Low|   Close|Adj Close|    Volume|\n",
            "+-------------------+--------+--------+--------+--------+---------+----------+\n",
            "|2000-01-03 00:00:00|0.936384|1.004464|0.907924|0.999442| 0.854541| 535796800|\n",
            "|2000-01-04 00:00:00|0.966518|0.987723| 0.90346|0.915179| 0.782494| 512377600|\n",
            "|2000-01-05 00:00:00|0.926339|0.987165|0.919643|0.928571| 0.793945| 778321600|\n",
            "|2000-01-06 00:00:00|0.947545|0.955357|0.848214|0.848214| 0.725238| 767972800|\n",
            "|2000-01-07 00:00:00|0.861607|0.901786|0.852679|0.888393| 0.759592| 460734400|\n",
            "|2000-01-10 00:00:00|0.910714|0.912946|0.845982|0.872768| 0.746232| 505064000|\n",
            "|2000-01-11 00:00:00|0.856585|0.887277|0.808036|0.828125| 0.708062| 441548800|\n",
            "|2000-01-12 00:00:00|0.848214|0.852679|0.772321| 0.77846| 0.665597| 976068800|\n",
            "|2000-01-13 00:00:00| 0.84361|0.881696|0.825893|0.863839| 0.738598|1032684800|\n",
            "|2000-01-14 00:00:00|0.892857|0.912946|0.887277|0.896763| 0.766748| 390376000|\n",
            "|2000-01-18 00:00:00|0.901786|0.946429|0.896763|0.928013| 0.793468| 459177600|\n",
            "|2000-01-19 00:00:00| 0.94308|0.970982|0.922991|0.951451| 0.813507| 597643200|\n",
            "|2000-01-20 00:00:00| 1.03125|1.084821|1.013393|1.013393| 0.866469|1831132800|\n",
            "|2000-01-21 00:00:00|1.020089|1.020089|0.983817|0.993862|  0.84977| 495924800|\n",
            "|2000-01-24 00:00:00|0.968192|1.006696|0.938616|0.948661| 0.811122| 440876800|\n",
            "|2000-01-25 00:00:00|  0.9375|1.010045|0.914063|1.002232| 0.856926| 497145600|\n",
            "|2000-01-26 00:00:00|0.982143|1.019531|0.979911|0.983817| 0.841181| 367158400|\n",
            "|2000-01-27 00:00:00| 0.97154|1.008929|0.955357|0.982143|  0.83975| 340144000|\n",
            "|2000-01-28 00:00:00| 0.96596|0.989955|0.898438|0.907366| 0.775814| 423348800|\n",
            "|2000-01-31 00:00:00|0.901786|0.927455| 0.84375|0.926339| 0.792037| 701680000|\n",
            "+-------------------+--------+--------+--------+--------+---------+----------+\n",
            "only showing top 20 rows\n",
            "\n"
          ]
        }
      ]
    },
    {
      "cell_type": "code",
      "source": [
        "df_aapl.describe().show()"
      ],
      "metadata": {
        "colab": {
          "base_uri": "https://localhost:8080/"
        },
        "id": "zQNx3DBkscF2",
        "outputId": "f1ed5a03-41a4-41ef-d4f8-fcf4641aaab0"
      },
      "execution_count": 36,
      "outputs": [
        {
          "output_type": "stream",
          "name": "stdout",
          "text": [
            "+-------+------------------+------------------+------------------+------------------+------------------+--------------------+\n",
            "|summary|              Open|              High|               Low|             Close|         Adj Close|              Volume|\n",
            "+-------+------------------+------------------+------------------+------------------+------------------+--------------------+\n",
            "|  count|              5679|              5679|              5679|              5679|              5679|                5679|\n",
            "|   mean|27.655528886599782| 27.96333620250042|27.351974223806995| 27.67022892181725|26.546330152491617| 4.206504023208311E8|\n",
            "| stddev| 40.17574060418408|40.662065532700915| 39.70804718079798|40.207648284507734| 40.12057575133881|3.8801818393992686E8|\n",
            "|    min|          0.231964|          0.235536|          0.227143|          0.234286|          0.200319|            39340000|\n",
            "|    max|        182.630005|        182.940002|        179.119995|        182.009995|        181.511703|          7421640800|\n",
            "+-------+------------------+------------------+------------------+------------------+------------------+--------------------+\n",
            "\n"
          ]
        }
      ]
    },
    {
      "cell_type": "code",
      "source": [
        "import pyspark.sql.functions as f\n",
        "df_aapl = df_aapl.withColumn(\"date\", f.to_date('Date'))"
      ],
      "metadata": {
        "id": "xp9TVlFespmZ"
      },
      "execution_count": 37,
      "outputs": []
    },
    {
      "cell_type": "code",
      "source": [
        "df_aapl.show()"
      ],
      "metadata": {
        "colab": {
          "base_uri": "https://localhost:8080/"
        },
        "id": "cDGiKNOmt49x",
        "outputId": "33d5c586-880b-4fb6-edd4-8ca50caa03c8"
      },
      "execution_count": 38,
      "outputs": [
        {
          "output_type": "stream",
          "name": "stdout",
          "text": [
            "+----------+--------+--------+--------+--------+---------+----------+\n",
            "|      date|    Open|    High|     Low|   Close|Adj Close|    Volume|\n",
            "+----------+--------+--------+--------+--------+---------+----------+\n",
            "|2000-01-03|0.936384|1.004464|0.907924|0.999442| 0.854541| 535796800|\n",
            "|2000-01-04|0.966518|0.987723| 0.90346|0.915179| 0.782494| 512377600|\n",
            "|2000-01-05|0.926339|0.987165|0.919643|0.928571| 0.793945| 778321600|\n",
            "|2000-01-06|0.947545|0.955357|0.848214|0.848214| 0.725238| 767972800|\n",
            "|2000-01-07|0.861607|0.901786|0.852679|0.888393| 0.759592| 460734400|\n",
            "|2000-01-10|0.910714|0.912946|0.845982|0.872768| 0.746232| 505064000|\n",
            "|2000-01-11|0.856585|0.887277|0.808036|0.828125| 0.708062| 441548800|\n",
            "|2000-01-12|0.848214|0.852679|0.772321| 0.77846| 0.665597| 976068800|\n",
            "|2000-01-13| 0.84361|0.881696|0.825893|0.863839| 0.738598|1032684800|\n",
            "|2000-01-14|0.892857|0.912946|0.887277|0.896763| 0.766748| 390376000|\n",
            "|2000-01-18|0.901786|0.946429|0.896763|0.928013| 0.793468| 459177600|\n",
            "|2000-01-19| 0.94308|0.970982|0.922991|0.951451| 0.813507| 597643200|\n",
            "|2000-01-20| 1.03125|1.084821|1.013393|1.013393| 0.866469|1831132800|\n",
            "|2000-01-21|1.020089|1.020089|0.983817|0.993862|  0.84977| 495924800|\n",
            "|2000-01-24|0.968192|1.006696|0.938616|0.948661| 0.811122| 440876800|\n",
            "|2000-01-25|  0.9375|1.010045|0.914063|1.002232| 0.856926| 497145600|\n",
            "|2000-01-26|0.982143|1.019531|0.979911|0.983817| 0.841181| 367158400|\n",
            "|2000-01-27| 0.97154|1.008929|0.955357|0.982143|  0.83975| 340144000|\n",
            "|2000-01-28| 0.96596|0.989955|0.898438|0.907366| 0.775814| 423348800|\n",
            "|2000-01-31|0.901786|0.927455| 0.84375|0.926339| 0.792037| 701680000|\n",
            "+----------+--------+--------+--------+--------+---------+----------+\n",
            "only showing top 20 rows\n",
            "\n"
          ]
        }
      ]
    },
    {
      "cell_type": "code",
      "source": [
        "date_breakdown = ['year', 'month', 'day']\n",
        "for i in enumerate(date_breakdown):\n",
        "    index = i[0]\n",
        "    print(index)\n",
        "    name = i[1]\n",
        "    print(name)\n",
        "    df_aapl = df_aapl.withColumn(name, f.split('date', '-')[index])"
      ],
      "metadata": {
        "colab": {
          "base_uri": "https://localhost:8080/"
        },
        "id": "A5S12Hqqt5be",
        "outputId": "bd9ae2ce-5407-45dd-9084-eb844dc6c602"
      },
      "execution_count": 39,
      "outputs": [
        {
          "output_type": "stream",
          "name": "stdout",
          "text": [
            "0\n",
            "year\n",
            "1\n",
            "month\n",
            "2\n",
            "day\n"
          ]
        }
      ]
    },
    {
      "cell_type": "code",
      "source": [
        "df_aapl.show(5)"
      ],
      "metadata": {
        "colab": {
          "base_uri": "https://localhost:8080/"
        },
        "id": "rP4M-fEnulHY",
        "outputId": "c6af55da-71f4-451a-e40f-d9713348bd86"
      },
      "execution_count": 40,
      "outputs": [
        {
          "output_type": "stream",
          "name": "stdout",
          "text": [
            "+----------+--------+--------+--------+--------+---------+---------+----+-----+---+\n",
            "|      date|    Open|    High|     Low|   Close|Adj Close|   Volume|year|month|day|\n",
            "+----------+--------+--------+--------+--------+---------+---------+----+-----+---+\n",
            "|2000-01-03|0.936384|1.004464|0.907924|0.999442| 0.854541|535796800|2000|   01| 03|\n",
            "|2000-01-04|0.966518|0.987723| 0.90346|0.915179| 0.782494|512377600|2000|   01| 04|\n",
            "|2000-01-05|0.926339|0.987165|0.919643|0.928571| 0.793945|778321600|2000|   01| 05|\n",
            "|2000-01-06|0.947545|0.955357|0.848214|0.848214| 0.725238|767972800|2000|   01| 06|\n",
            "|2000-01-07|0.861607|0.901786|0.852679|0.888393| 0.759592|460734400|2000|   01| 07|\n",
            "+----------+--------+--------+--------+--------+---------+---------+----+-----+---+\n",
            "only showing top 5 rows\n",
            "\n"
          ]
        }
      ]
    },
    {
      "cell_type": "code",
      "source": [
        "df_aapl_plot = df_aapl.select('year', 'Close').toPandas()"
      ],
      "metadata": {
        "id": "-pu4MjV5umJn"
      },
      "execution_count": 41,
      "outputs": []
    },
    {
      "cell_type": "code",
      "source": [
        "from matplotlib import pyplot as plt\n",
        "%matplotlib inline\n",
        "\n",
        "df_aapl_plot.set_index('year', inplace=True)\n",
        "df_aapl_plot.plot(figsize=(16, 6), grid=True)\n",
        "plt.title('Apple stock')\n",
        "plt.ylabel('Stock Quote ($)')\n",
        "plt.show()"
      ],
      "metadata": {
        "colab": {
          "base_uri": "https://localhost:8080/",
          "height": 404
        },
        "id": "VGVjsaJQu4Np",
        "outputId": "714bacd8-3aa3-44da-a15b-b10a5fd89967"
      },
      "execution_count": 42,
      "outputs": [
        {
          "output_type": "display_data",
          "data": {
            "text/plain": [
              "<Figure size 1152x432 with 1 Axes>"
            ],
            "image/png": "[encoded data removed]"
          },
          "metadata": {
            "needs_background": "light"
          }
        }
      ]
    },
    {
      "cell_type": "markdown",
      "source": [
        "## With TCB"
      ],
      "metadata": {
        "id": "khpRpZMh1ydP"
      }
    },
    {
      "cell_type": "markdown",
      "source": [
        "PySpark Data Frame: https://builtin.com/data-science/pyspark-dataframe"
      ],
      "metadata": {
        "id": "ih7trGbH8EyH"
      }
    },
    {
      "cell_type": "code",
      "source": [
        "df_tcb = spark.read.csv(\"/content/drive/MyDrive/techcombank-stock-price-prediction/TCB Historical Data.csv\",header=True, inferSchema=True)"
      ],
      "metadata": {
        "id": "Wkn0xULX4vGu"
      },
      "execution_count": null,
      "outputs": []
    },
    {
      "cell_type": "code",
      "source": [
        "df_tcb.printSchema()"
      ],
      "metadata": {
        "id": "KqztRN6r2A6Y"
      },
      "execution_count": null,
      "outputs": []
    },
    {
      "cell_type": "code",
      "source": [
        "from pyspark.sql.types import *"
      ],
      "metadata": {
        "id": "PrxqTDs532zQ"
      },
      "execution_count": null,
      "outputs": []
    },
    {
      "cell_type": "code",
      "source": [
        "df_tcb1 = df_tcb.withColumn(\"Price\", f.col(\"Price\").cast(\n",
        "  DoubleType()))"
      ],
      "metadata": {
        "id": "2ercPmL-u5-e"
      },
      "execution_count": null,
      "outputs": []
    },
    {
      "cell_type": "code",
      "source": [
        "df_tcb.show(5)"
      ],
      "metadata": {
        "id": "K8YjmIt03HyS"
      },
      "execution_count": null,
      "outputs": []
    },
    {
      "cell_type": "code",
      "source": [
        ""
      ],
      "metadata": {
        "id": "kzMFUpdr9BOq"
      },
      "execution_count": null,
      "outputs": []
    },
    {
      "cell_type": "code",
      "source": [
        "price1 = \"37,300.0\"\n",
        "price1.replace(\",\", \".\").replace(\".0\", \"\")"
      ],
      "metadata": {
        "id": "32QAAmKG8y3n"
      },
      "execution_count": null,
      "outputs": []
    },
    {
      "cell_type": "code",
      "source": [
        "df_tcb_pd = df_tcb.toPandas()\n",
        "df_tcb_pd"
      ],
      "metadata": {
        "id": "V3r6ebiyClkT"
      },
      "execution_count": null,
      "outputs": []
    },
    {
      "cell_type": "code",
      "source": [
        "df_tcb_pd.dtypes"
      ],
      "metadata": {
        "id": "mQlpS2OIF-CU"
      },
      "execution_count": null,
      "outputs": []
    },
    {
      "cell_type": "markdown",
      "source": [
        "# Preparing data"
      ],
      "metadata": {
        "id": "xCJ3zrV5FOyy"
      }
    },
    {
      "cell_type": "code",
      "source": [
        "df_aapl.toPandas().shape"
      ],
      "metadata": {
        "colab": {
          "base_uri": "https://localhost:8080/"
        },
        "id": "cBNgXSR5FhVK",
        "outputId": "981b2ea9-6829-4516-99ae-c6cae6b9e2ba"
      },
      "execution_count": 43,
      "outputs": [
        {
          "output_type": "execute_result",
          "data": {
            "text/plain": [
              "(5679, 10)"
            ]
          },
          "metadata": {},
          "execution_count": 43
        }
      ]
    },
    {
      "cell_type": "code",
      "source": [
        "df_aapl.dropna().count()"
      ],
      "metadata": {
        "colab": {
          "base_uri": "https://localhost:8080/"
        },
        "id": "duWjaW1HHpua",
        "outputId": "67972385-8d1c-424a-81d6-9c137b6e0965"
      },
      "execution_count": 44,
      "outputs": [
        {
          "output_type": "execute_result",
          "data": {
            "text/plain": [
              "5679"
            ]
          },
          "metadata": {},
          "execution_count": 44
        }
      ]
    },
    {
      "cell_type": "code",
      "source": [
        "df_aapl.select('Open', \"High\", 'Low', 'Close', 'Adj Close').describe().show()"
      ],
      "metadata": {
        "colab": {
          "base_uri": "https://localhost:8080/"
        },
        "id": "AurkwIuYIBLL",
        "outputId": "d282a019-a2d2-4d87-8bb9-221ab3e660be"
      },
      "execution_count": 45,
      "outputs": [
        {
          "output_type": "stream",
          "name": "stdout",
          "text": [
            "+-------+------------------+------------------+------------------+------------------+------------------+\n",
            "|summary|              Open|              High|               Low|             Close|         Adj Close|\n",
            "+-------+------------------+------------------+------------------+------------------+------------------+\n",
            "|  count|              5679|              5679|              5679|              5679|              5679|\n",
            "|   mean|27.655528886599782| 27.96333620250042|27.351974223806995| 27.67022892181725|26.546330152491617|\n",
            "| stddev| 40.17574060418408|40.662065532700915| 39.70804718079798|40.207648284507734| 40.12057575133881|\n",
            "|    min|          0.231964|          0.235536|          0.227143|          0.234286|          0.200319|\n",
            "|    max|        182.630005|        182.940002|        179.119995|        182.009995|        181.511703|\n",
            "+-------+------------------+------------------+------------------+------------------+------------------+\n",
            "\n"
          ]
        }
      ]
    },
    {
      "cell_type": "markdown",
      "source": [
        "1. Group the year column by `Adj Close` count:"
      ],
      "metadata": {
        "id": "L_HeA4ceIaEF"
      }
    },
    {
      "cell_type": "code",
      "source": [
        "df_aapl.groupBy(['year']).agg({'Adj Close':'count'})\\\n",
        "     .withColumnRenamed('count(Adj Close)', 'Row Count')\\\n",
        "     .orderBy([\"year\"],ascending=False)\\\n",
        "     .show()"
      ],
      "metadata": {
        "colab": {
          "base_uri": "https://localhost:8080/"
        },
        "id": "Fpz-H34XIIGM",
        "outputId": "6e031aef-80df-4b27-ab2d-8a3718e17fa5"
      },
      "execution_count": 46,
      "outputs": [
        {
          "output_type": "stream",
          "name": "stdout",
          "text": [
            "+----+---------+\n",
            "|year|Row Count|\n",
            "+----+---------+\n",
            "|2022|      143|\n",
            "|2021|      252|\n",
            "|2020|      253|\n",
            "|2019|      252|\n",
            "|2018|      251|\n",
            "|2017|      251|\n",
            "|2016|      252|\n",
            "|2015|      252|\n",
            "|2014|      252|\n",
            "|2013|      252|\n",
            "|2012|      250|\n",
            "|2011|      252|\n",
            "|2010|      252|\n",
            "|2009|      252|\n",
            "|2008|      253|\n",
            "|2007|      251|\n",
            "|2006|      251|\n",
            "|2005|      252|\n",
            "|2004|      252|\n",
            "|2003|      252|\n",
            "+----+---------+\n",
            "only showing top 20 rows\n",
            "\n"
          ]
        }
      ]
    },
    {
      "cell_type": "markdown",
      "source": [
        "2. Create new dataframes for training and test purposes:"
      ],
      "metadata": {
        "id": "IO4KyMvhIr4N"
      }
    },
    {
      "cell_type": "markdown",
      "source": [
        "Use all of the stock quotes from 2000 through 2016 to predict stock trends in 2017-2022\n",
        "\n"
      ],
      "metadata": {
        "id": "9UOdr2lmKzG_"
      }
    },
    {
      "cell_type": "code",
      "source": [
        "train_df_aapl = df_aapl[df_aapl.year < 2017]\n",
        "test_df_aapl = df_aapl[df_aapl.year > 2016]"
      ],
      "metadata": {
        "id": "n5L5bFHAIiw4"
      },
      "execution_count": 47,
      "outputs": []
    },
    {
      "cell_type": "markdown",
      "source": [
        "3. Get row and column counts of 2 data frames"
      ],
      "metadata": {
        "id": "QVkuENO5JOCV"
      }
    },
    {
      "cell_type": "code",
      "source": [
        "print(train_df_aapl.toPandas().shape)\n",
        "test_df_aapl.toPandas().shape"
      ],
      "metadata": {
        "colab": {
          "base_uri": "https://localhost:8080/"
        },
        "id": "Lhn9vGHnI-C1",
        "outputId": "641d5322-34cd-42a2-ea67-3da4435a962b"
      },
      "execution_count": 48,
      "outputs": [
        {
          "output_type": "stream",
          "name": "stdout",
          "text": [
            "(4277, 10)\n"
          ]
        },
        {
          "output_type": "execute_result",
          "data": {
            "text/plain": [
              "(1402, 10)"
            ]
          },
          "metadata": {},
          "execution_count": 48
        }
      ]
    },
    {
      "cell_type": "markdown",
      "source": [
        "4. Visualizes `train_df_aapl` and `test_df_aapl`"
      ],
      "metadata": {
        "id": "3MINOIqIJTD1"
      }
    },
    {
      "cell_type": "code",
      "source": [
        "train_df_aapl_plot = train_df_aapl.select('year', 'Adj Close').toPandas()\n",
        "train_df_aapl_plot.set_index('year', inplace=True)\n",
        "train_df_aapl_plot.plot(figsize=(16, 6), grid=True)\n",
        "plt.title('Apple Stock 2000-2016')\n",
        "plt.ylabel('Stock Quote ($)')\n",
        "plt.show()"
      ],
      "metadata": {
        "colab": {
          "base_uri": "https://localhost:8080/",
          "height": 404
        },
        "id": "OrVw8ojrJIM0",
        "outputId": "2e63836d-1ec8-4194-eb29-1320540edc2c"
      },
      "execution_count": 49,
      "outputs": [
        {
          "output_type": "display_data",
          "data": {
            "text/plain": [
              "<Figure size 1152x432 with 1 Axes>"
            ],
            "image/png": "[encoded data removed]"
          },
          "metadata": {
            "needs_background": "light"
          }
        }
      ]
    },
    {
      "cell_type": "code",
      "source": [
        "test_df_aapl_plot = test_df_aapl.select('year', 'Adj Close').toPandas()\n",
        "test_df_aapl_plot.set_index('year', inplace=True)\n",
        "test_df_aapl_plot.plot(figsize=(16, 6), grid=True)\n",
        "plt.title('Apple Stock 2017- 2022')\n",
        "plt.ylabel('Stock Quote ($)')\n",
        "plt.show()"
      ],
      "metadata": {
        "colab": {
          "base_uri": "https://localhost:8080/",
          "height": 404
        },
        "id": "IqVq5YTLJvck",
        "outputId": "1937973f-8808-40d9-e935-ccc67791cc13"
      },
      "execution_count": 50,
      "outputs": [
        {
          "output_type": "display_data",
          "data": {
            "text/plain": [
              "<Figure size 1152x432 with 1 Axes>"
            ],
            "image/png": "[encoded data removed]"
          },
          "metadata": {
            "needs_background": "light"
          }
        }
      ]
    },
    {
      "cell_type": "markdown",
      "source": [
        "5. Create 2 arrays: train_array, test_array"
      ],
      "metadata": {
        "id": "1zzhO6G8KETG"
      }
    },
    {
      "cell_type": "code",
      "source": [
        "trainDF = train_df_aapl\n",
        "testDF = test_df_aapl"
      ],
      "metadata": {
        "id": "23k93Wy9KLCr"
      },
      "execution_count": 51,
      "outputs": []
    },
    {
      "cell_type": "code",
      "source": [
        "import numpy as np\n",
        "trainArray = np.array(trainDF.select('Open', 'High', 'Low',                     'Close','Volume', 'Adj Close' ).collect())\n",
        "testArray = np.array(testDF.select('Open', 'High', 'Low', 'Close','Volume',     'Adj Close' ).collect())"
      ],
      "metadata": {
        "id": "JnFcdMpHJ8ru"
      },
      "execution_count": 52,
      "outputs": []
    },
    {
      "cell_type": "markdown",
      "source": [
        "6. Scale the arrays between 0 and 1"
      ],
      "metadata": {
        "id": "KerC5UmdKQst"
      }
    },
    {
      "cell_type": "code",
      "source": [
        "from sklearn.preprocessing import MinMaxScaler\n",
        "minMaxScale = MinMaxScaler()"
      ],
      "metadata": {
        "id": "BL0k-yK3KO1P"
      },
      "execution_count": 53,
      "outputs": []
    },
    {
      "cell_type": "code",
      "source": [
        "minMaxScale.fit(trainArray)\n",
        "\n",
        "testingArray = minMaxScale.transform(testArray)\n",
        "trainingArray = minMaxScale.transform(trainArray)"
      ],
      "metadata": {
        "id": "qq_xyGwzKVkT"
      },
      "execution_count": 54,
      "outputs": []
    },
    {
      "cell_type": "code",
      "source": [
        "xtrain = trainingArray[:, 0:-1]\n",
        "xtest = testingArray[:, 0:-1]\n",
        "ytrain = trainingArray[:, -1:]\n",
        "ytest = testingArray[:, -1:]"
      ],
      "metadata": {
        "id": "lfWkZ_m7KXyr"
      },
      "execution_count": 55,
      "outputs": []
    },
    {
      "cell_type": "code",
      "source": [
        "print('xtrain shape = {}'.format(xtrain.shape))\n",
        "print('xtest shape = {}'.format(xtest.shape))\n",
        "print('ytrain shape = {}'.format(ytrain.shape))\n",
        "print('ytest shape = {}'.format(ytest.shape))"
      ],
      "metadata": {
        "colab": {
          "base_uri": "https://localhost:8080/"
        },
        "id": "rCe_g3ngKasJ",
        "outputId": "331978dd-f8b6-41a0-cf3f-e44e47570249"
      },
      "execution_count": 56,
      "outputs": [
        {
          "output_type": "stream",
          "name": "stdout",
          "text": [
            "xtrain shape = (4277, 5)\n",
            "xtest shape = (1402, 5)\n",
            "ytrain shape = (4277, 1)\n",
            "ytest shape = (1402, 1)\n"
          ]
        }
      ]
    },
    {
      "cell_type": "code",
      "source": [
        "plt.figure(figsize=(16,6))\n",
        "plt.plot(xtrain[:,0],color='red', label='open')\n",
        "plt.plot(xtrain[:,1],color='blue', label='high')\n",
        "plt.plot(xtrain[:,2],color='green', label='low')\n",
        "plt.plot(xtrain[:,3],color='purple', label='close')\n",
        "plt.legend(loc = 'upper left')\n",
        "plt.title('Open, High, Low, and Close by Day')\n",
        "plt.xlabel('Days')\n",
        "plt.ylabel('Scaled Quotes')\n",
        "plt.show()"
      ],
      "metadata": {
        "colab": {
          "base_uri": "https://localhost:8080/",
          "height": 404
        },
        "id": "-UbJmjcJKggd",
        "outputId": "e4c52833-667f-4e2f-a5bd-863820e1c78b"
      },
      "execution_count": 57,
      "outputs": [
        {
          "output_type": "display_data",
          "data": {
            "text/plain": [
              "<Figure size 1152x432 with 1 Axes>"
            ],
            "image/png": "[encoded data removed]"
          },
          "metadata": {
            "needs_background": "light"
          }
        }
      ]
    },
    {
      "cell_type": "code",
      "source": [
        "plt.figure(figsize=(16,6))\n",
        "plt.plot(xtrain[:,4],color='black', label='volume')\n",
        "plt.legend(loc = 'upper right')\n",
        "plt.title('Volume by Day')\n",
        "plt.xlabel('Days')\n",
        "plt.ylabel('Scaled Volume')\n",
        "plt.show()"
      ],
      "metadata": {
        "colab": {
          "base_uri": "https://localhost:8080/",
          "height": 404
        },
        "id": "7G5J-xNRKkz5",
        "outputId": "6a946972-fa24-413d-f61e-82bbb5c7d350"
      },
      "execution_count": 58,
      "outputs": [
        {
          "output_type": "display_data",
          "data": {
            "text/plain": [
              "<Figure size 1152x432 with 1 Axes>"
            ],
            "image/png": "[encoded data removed]"
          },
          "metadata": {
            "needs_background": "light"
          }
        }
      ]
    },
    {
      "cell_type": "markdown",
      "source": [
        "# Building LSTM model"
      ],
      "metadata": {
        "id": "r8bjqBwMMIH-"
      }
    },
    {
      "cell_type": "code",
      "source": [
        "from keras import models, layers"
      ],
      "metadata": {
        "id": "eu3cuK8YKonZ"
      },
      "execution_count": 59,
      "outputs": []
    },
    {
      "cell_type": "code",
      "source": [
        "model = models.Sequential()\n",
        "model.add(layers.LSTM(1, input_shape=(1,5)))\n",
        "model.add(layers.Dense(1))\n",
        "model.compile(loss='mean_squared_error', optimizer='adam')"
      ],
      "metadata": {
        "id": "6Si30fqtMPx5"
      },
      "execution_count": 60,
      "outputs": []
    },
    {
      "cell_type": "code",
      "source": [
        "xtrain = xtrain.reshape((xtrain.shape[0], 1, xtrain.shape[1]))\n",
        "xtest = xtest.reshape((xtest.shape[0], 1, xtest.shape[1]))"
      ],
      "metadata": {
        "id": "XLEADsmiMVbv"
      },
      "execution_count": 61,
      "outputs": []
    },
    {
      "cell_type": "code",
      "source": [
        "loss = model.fit(xtrain, ytrain, batch_size=10, epochs=100)"
      ],
      "metadata": {
        "id": "xUbU761EMYy8"
      },
      "execution_count": null,
      "outputs": []
    },
    {
      "cell_type": "code",
      "source": [
        "loss = model.fit(xtrain, ytrain, batch_size=10, epochs=500)"
      ],
      "metadata": {
        "colab": {
          "base_uri": "https://localhost:8080/"
        },
        "id": "Tv0tcTIPP76f",
        "outputId": "140a3858-f714-4ad5-86a1-c8f16f499d66"
      },
      "execution_count": 69,
      "outputs": [
        {
          "output_type": "stream",
          "name": "stdout",
          "text": [
            "428/428 [==============================] - 3s 6ms/step - loss: 6.4290e-05\n",
            "Epoch 139/500\n",
            "428/428 [==============================] - 1s 3ms/step - loss: 6.5956e-05\n",
            "Epoch 140/500\n",
            "428/428 [==============================] - 1s 3ms/step - loss: 6.4264e-05\n",
            "Epoch 141/500\n",
            "428/428 [==============================] - 1s 3ms/step - loss: 6.3325e-05\n",
            "Epoch 142/500\n",
            "428/428 [==============================] - 1s 3ms/step - loss: 6.3123e-05\n",
            "Epoch 143/500\n",
            "428/428 [==============================] - 1s 3ms/step - loss: 6.8145e-05\n",
            "Epoch 144/500\n",
            "428/428 [==============================] - 1s 3ms/step - loss: 6.4301e-05\n",
            "Epoch 145/500\n",
            "428/428 [==============================] - 2s 4ms/step - loss: 6.4869e-05\n",
            "Epoch 146/500\n",
            "428/428 [==============================] - 2s 4ms/step - loss: 6.7813e-05\n",
            "Epoch 147/500\n",
            "428/428 [==============================] - 1s 3ms/step - loss: 6.6612e-05\n",
            "Epoch 148/500\n",
            "428/428 [==============================] - 1s 3ms/step - loss: 6.4185e-05\n",
            "Epoch 149/500\n",
            "428/428 [==============================] - 1s 3ms/step - loss: 6.3225e-05\n",
            "Epoch 150/500\n",
            "428/428 [==============================] - 1s 3ms/step - loss: 6.5807e-05\n",
            "Epoch 151/500\n",
            "428/428 [==============================] - 1s 3ms/step - loss: 6.9158e-05\n",
            "Epoch 152/500\n",
            "428/428 [==============================] - 1s 3ms/step - loss: 6.3884e-05\n",
            "Epoch 153/500\n",
            "428/428 [==============================] - 1s 3ms/step - loss: 6.4218e-05\n",
            "Epoch 154/500\n",
            "428/428 [==============================] - 1s 3ms/step - loss: 6.4847e-05\n",
            "Epoch 155/500\n",
            "428/428 [==============================] - 1s 3ms/step - loss: 6.7015e-05\n",
            "Epoch 156/500\n",
            "428/428 [==============================] - 1s 3ms/step - loss: 6.2418e-05\n",
            "Epoch 157/500\n",
            "428/428 [==============================] - 1s 3ms/step - loss: 6.6940e-05\n",
            "Epoch 158/500\n",
            "428/428 [==============================] - 1s 3ms/step - loss: 6.4940e-05\n",
            "Epoch 159/500\n",
            "428/428 [==============================] - 1s 3ms/step - loss: 6.3873e-05\n",
            "Epoch 160/500\n",
            "428/428 [==============================] - 1s 3ms/step - loss: 6.6236e-05\n",
            "Epoch 161/500\n",
            "428/428 [==============================] - 1s 3ms/step - loss: 6.4553e-05\n",
            "Epoch 162/500\n",
            "428/428 [==============================] - 1s 3ms/step - loss: 6.4643e-05\n",
            "Epoch 163/500\n",
            "428/428 [==============================] - 1s 3ms/step - loss: 6.2425e-05\n",
            "Epoch 164/500\n",
            "428/428 [==============================] - 1s 3ms/step - loss: 6.2825e-05\n",
            "Epoch 165/500\n",
            "428/428 [==============================] - 1s 3ms/step - loss: 6.2405e-05\n",
            "Epoch 166/500\n",
            "428/428 [==============================] - 1s 3ms/step - loss: 6.3938e-05\n",
            "Epoch 167/500\n",
            "428/428 [==============================] - 1s 3ms/step - loss: 6.4579e-05\n",
            "Epoch 168/500\n",
            "428/428 [==============================] - 1s 3ms/step - loss: 6.5553e-05\n",
            "Epoch 169/500\n",
            "428/428 [==============================] - 1s 3ms/step - loss: 6.3090e-05\n",
            "Epoch 170/500\n",
            "428/428 [==============================] - 1s 3ms/step - loss: 6.6434e-05\n",
            "Epoch 171/500\n",
            "428/428 [==============================] - 1s 3ms/step - loss: 6.3402e-05\n",
            "Epoch 172/500\n",
            "428/428 [==============================] - 1s 3ms/step - loss: 6.3499e-05\n",
            "Epoch 173/500\n",
            "428/428 [==============================] - 1s 3ms/step - loss: 6.3290e-05\n",
            "Epoch 174/500\n",
            "428/428 [==============================] - 1s 3ms/step - loss: 6.4968e-05\n",
            "Epoch 175/500\n",
            "428/428 [==============================] - 1s 3ms/step - loss: 6.6031e-05\n",
            "Epoch 176/500\n",
            "428/428 [==============================] - 1s 3ms/step - loss: 6.2533e-05\n",
            "Epoch 177/500\n",
            "428/428 [==============================] - 1s 3ms/step - loss: 6.3869e-05\n",
            "Epoch 178/500\n",
            "428/428 [==============================] - 1s 3ms/step - loss: 6.5551e-05\n",
            "Epoch 179/500\n",
            "428/428 [==============================] - 1s 3ms/step - loss: 6.7227e-05\n",
            "Epoch 180/500\n",
            "428/428 [==============================] - 1s 3ms/step - loss: 6.4681e-05\n",
            "Epoch 181/500\n",
            "428/428 [==============================] - 2s 4ms/step - loss: 6.6779e-05\n",
            "Epoch 182/500\n",
            "428/428 [==============================] - 1s 3ms/step - loss: 6.1728e-05\n",
            "Epoch 183/500\n",
            "428/428 [==============================] - 2s 3ms/step - loss: 6.2640e-05\n",
            "Epoch 184/500\n",
            "428/428 [==============================] - 1s 3ms/step - loss: 6.5028e-05\n",
            "Epoch 185/500\n",
            "428/428 [==============================] - 1s 3ms/step - loss: 6.2775e-05\n",
            "Epoch 186/500\n",
            "428/428 [==============================] - 1s 3ms/step - loss: 6.3106e-05\n",
            "Epoch 187/500\n",
            "428/428 [==============================] - 1s 3ms/step - loss: 6.5701e-05\n",
            "Epoch 188/500\n",
            "428/428 [==============================] - 1s 3ms/step - loss: 6.4920e-05\n",
            "Epoch 189/500\n",
            "428/428 [==============================] - 1s 3ms/step - loss: 6.4104e-05\n",
            "Epoch 190/500\n",
            "428/428 [==============================] - 1s 3ms/step - loss: 6.7293e-05\n",
            "Epoch 191/500\n",
            "428/428 [==============================] - 1s 3ms/step - loss: 6.2565e-05\n",
            "Epoch 192/500\n",
            "428/428 [==============================] - 1s 3ms/step - loss: 6.4755e-05\n",
            "Epoch 193/500\n",
            "428/428 [==============================] - 1s 3ms/step - loss: 6.3382e-05\n",
            "Epoch 194/500\n",
            "428/428 [==============================] - 1s 3ms/step - loss: 6.1811e-05\n",
            "Epoch 195/500\n",
            "428/428 [==============================] - 1s 3ms/step - loss: 6.3833e-05\n",
            "Epoch 196/500\n",
            "428/428 [==============================] - 1s 3ms/step - loss: 6.8271e-05\n",
            "Epoch 197/500\n",
            "428/428 [==============================] - 1s 3ms/step - loss: 6.3460e-05\n",
            "Epoch 198/500\n",
            "428/428 [==============================] - 1s 3ms/step - loss: 6.3108e-05\n",
            "Epoch 199/500\n",
            "428/428 [==============================] - 1s 3ms/step - loss: 6.1920e-05\n",
            "Epoch 200/500\n",
            "428/428 [==============================] - 1s 3ms/step - loss: 6.5034e-05\n",
            "Epoch 201/500\n",
            "428/428 [==============================] - 1s 3ms/step - loss: 6.3320e-05\n",
            "Epoch 202/500\n",
            "428/428 [==============================] - 1s 3ms/step - loss: 6.4006e-05\n",
            "Epoch 203/500\n",
            "428/428 [==============================] - 1s 3ms/step - loss: 6.5663e-05\n",
            "Epoch 204/500\n",
            "428/428 [==============================] - 1s 3ms/step - loss: 6.2978e-05\n",
            "Epoch 205/500\n",
            "428/428 [==============================] - 1s 3ms/step - loss: 6.2095e-05\n",
            "Epoch 206/500\n",
            "428/428 [==============================] - 1s 3ms/step - loss: 6.1796e-05\n",
            "Epoch 207/500\n",
            "428/428 [==============================] - 1s 3ms/step - loss: 6.2950e-05\n",
            "Epoch 208/500\n",
            "428/428 [==============================] - 1s 3ms/step - loss: 6.5718e-05\n",
            "Epoch 209/500\n",
            "428/428 [==============================] - 1s 3ms/step - loss: 6.3358e-05\n",
            "Epoch 210/500\n",
            "428/428 [==============================] - 1s 3ms/step - loss: 6.2597e-05\n",
            "Epoch 211/500\n",
            "428/428 [==============================] - 1s 3ms/step - loss: 6.3276e-05\n",
            "Epoch 212/500\n",
            "428/428 [==============================] - 2s 5ms/step - loss: 6.3046e-05\n",
            "Epoch 213/500\n",
            "428/428 [==============================] - 2s 5ms/step - loss: 6.1106e-05\n",
            "Epoch 214/500\n",
            "428/428 [==============================] - 1s 3ms/step - loss: 6.2140e-05\n",
            "Epoch 215/500\n",
            "428/428 [==============================] - 1s 3ms/step - loss: 6.3326e-05\n",
            "Epoch 216/500\n",
            "428/428 [==============================] - 1s 3ms/step - loss: 6.2063e-05\n",
            "Epoch 217/500\n",
            "428/428 [==============================] - 1s 3ms/step - loss: 6.3559e-05\n",
            "Epoch 218/500\n",
            "428/428 [==============================] - 1s 3ms/step - loss: 6.3211e-05\n",
            "Epoch 219/500\n",
            "428/428 [==============================] - 1s 3ms/step - loss: 6.1562e-05\n",
            "Epoch 220/500\n",
            "428/428 [==============================] - 1s 3ms/step - loss: 6.3168e-05\n",
            "Epoch 221/500\n",
            "428/428 [==============================] - 1s 3ms/step - loss: 6.3031e-05\n",
            "Epoch 222/500\n",
            "428/428 [==============================] - 1s 3ms/step - loss: 6.0839e-05\n",
            "Epoch 223/500\n",
            "428/428 [==============================] - 1s 3ms/step - loss: 6.5923e-05\n",
            "Epoch 224/500\n",
            "428/428 [==============================] - 1s 3ms/step - loss: 6.6446e-05\n",
            "Epoch 225/500\n",
            "428/428 [==============================] - 1s 3ms/step - loss: 6.3839e-05\n",
            "Epoch 226/500\n",
            "428/428 [==============================] - 1s 3ms/step - loss: 6.4100e-05\n",
            "Epoch 227/500\n",
            "428/428 [==============================] - 1s 3ms/step - loss: 6.2763e-05\n",
            "Epoch 228/500\n",
            "428/428 [==============================] - 1s 3ms/step - loss: 6.4645e-05\n",
            "Epoch 229/500\n",
            "428/428 [==============================] - 1s 3ms/step - loss: 6.2434e-05\n",
            "Epoch 230/500\n",
            "428/428 [==============================] - 1s 3ms/step - loss: 6.1815e-05\n",
            "Epoch 231/500\n",
            "428/428 [==============================] - 1s 3ms/step - loss: 6.2106e-05\n",
            "Epoch 232/500\n",
            "428/428 [==============================] - 1s 3ms/step - loss: 6.1499e-05\n",
            "Epoch 233/500\n",
            "428/428 [==============================] - 1s 3ms/step - loss: 6.2156e-05\n",
            "Epoch 234/500\n",
            "428/428 [==============================] - 1s 3ms/step - loss: 6.2651e-05\n",
            "Epoch 235/500\n",
            "428/428 [==============================] - 1s 3ms/step - loss: 6.2882e-05\n",
            "Epoch 236/500\n",
            "428/428 [==============================] - 1s 3ms/step - loss: 6.3934e-05\n",
            "Epoch 237/500\n",
            "428/428 [==============================] - 1s 3ms/step - loss: 6.3110e-05\n",
            "Epoch 238/500\n",
            "428/428 [==============================] - 1s 3ms/step - loss: 6.2723e-05\n",
            "Epoch 239/500\n",
            "428/428 [==============================] - 1s 3ms/step - loss: 6.0466e-05\n",
            "Epoch 240/500\n",
            "428/428 [==============================] - 1s 3ms/step - loss: 6.2229e-05\n",
            "Epoch 241/500\n",
            "428/428 [==============================] - 1s 3ms/step - loss: 6.4476e-05\n",
            "Epoch 242/500\n",
            "428/428 [==============================] - 1s 3ms/step - loss: 6.2705e-05\n",
            "Epoch 243/500\n",
            "428/428 [==============================] - 1s 3ms/step - loss: 6.3627e-05\n",
            "Epoch 244/500\n",
            "428/428 [==============================] - 1s 3ms/step - loss: 6.3424e-05\n",
            "Epoch 245/500\n",
            "428/428 [==============================] - 1s 3ms/step - loss: 6.2215e-05\n",
            "Epoch 246/500\n",
            "428/428 [==============================] - 1s 3ms/step - loss: 6.2848e-05\n",
            "Epoch 247/500\n",
            "428/428 [==============================] - 1s 3ms/step - loss: 6.4669e-05\n",
            "Epoch 248/500\n",
            "428/428 [==============================] - 1s 3ms/step - loss: 6.2205e-05\n",
            "Epoch 249/500\n",
            "428/428 [==============================] - 1s 3ms/step - loss: 6.4592e-05\n",
            "Epoch 250/500\n",
            "428/428 [==============================] - 1s 3ms/step - loss: 6.3231e-05\n",
            "Epoch 251/500\n",
            "428/428 [==============================] - 1s 3ms/step - loss: 6.1803e-05\n",
            "Epoch 252/500\n",
            "428/428 [==============================] - 1s 3ms/step - loss: 6.2907e-05\n",
            "Epoch 253/500\n",
            "428/428 [==============================] - 1s 3ms/step - loss: 6.2772e-05\n",
            "Epoch 254/500\n",
            "428/428 [==============================] - 1s 3ms/step - loss: 6.5474e-05\n",
            "Epoch 255/500\n",
            "428/428 [==============================] - 1s 3ms/step - loss: 6.2165e-05\n",
            "Epoch 256/500\n",
            "428/428 [==============================] - 1s 3ms/step - loss: 6.1557e-05\n",
            "Epoch 257/500\n",
            "428/428 [==============================] - 1s 3ms/step - loss: 6.1296e-05\n",
            "Epoch 258/500\n",
            "428/428 [==============================] - 1s 3ms/step - loss: 6.3638e-05\n",
            "Epoch 259/500\n",
            "428/428 [==============================] - 1s 3ms/step - loss: 6.3403e-05\n",
            "Epoch 260/500\n",
            "428/428 [==============================] - 1s 3ms/step - loss: 6.1297e-05\n",
            "Epoch 261/500\n",
            "428/428 [==============================] - 1s 3ms/step - loss: 6.3147e-05\n",
            "Epoch 262/500\n",
            "428/428 [==============================] - 1s 3ms/step - loss: 6.0855e-05\n",
            "Epoch 263/500\n",
            "428/428 [==============================] - 1s 3ms/step - loss: 6.1213e-05\n",
            "Epoch 264/500\n",
            "428/428 [==============================] - 1s 3ms/step - loss: 5.9904e-05\n",
            "Epoch 265/500\n",
            "428/428 [==============================] - 1s 3ms/step - loss: 6.0441e-05\n",
            "Epoch 266/500\n",
            "428/428 [==============================] - 1s 3ms/step - loss: 6.3829e-05\n",
            "Epoch 267/500\n",
            "428/428 [==============================] - 1s 3ms/step - loss: 6.1798e-05\n",
            "Epoch 268/500\n",
            "428/428 [==============================] - 1s 3ms/step - loss: 6.2364e-05\n",
            "Epoch 269/500\n",
            "428/428 [==============================] - 1s 3ms/step - loss: 6.2298e-05\n",
            "Epoch 270/500\n",
            "428/428 [==============================] - 1s 3ms/step - loss: 6.2371e-05\n",
            "Epoch 271/500\n",
            "428/428 [==============================] - 1s 3ms/step - loss: 6.0593e-05\n",
            "Epoch 272/500\n",
            "428/428 [==============================] - 1s 3ms/step - loss: 6.3749e-05\n",
            "Epoch 273/500\n",
            "428/428 [==============================] - 1s 3ms/step - loss: 6.3006e-05\n",
            "Epoch 274/500\n",
            "428/428 [==============================] - 1s 3ms/step - loss: 6.5692e-05\n",
            "Epoch 275/500\n",
            "428/428 [==============================] - 1s 3ms/step - loss: 6.1305e-05\n",
            "Epoch 276/500\n",
            "428/428 [==============================] - 1s 3ms/step - loss: 6.1007e-05\n",
            "Epoch 277/500\n",
            "428/428 [==============================] - 1s 3ms/step - loss: 6.4978e-05\n",
            "Epoch 278/500\n",
            "428/428 [==============================] - 1s 3ms/step - loss: 6.3575e-05\n",
            "Epoch 279/500\n",
            "428/428 [==============================] - 1s 3ms/step - loss: 6.3335e-05\n",
            "Epoch 280/500\n",
            "428/428 [==============================] - 1s 3ms/step - loss: 6.2614e-05\n",
            "Epoch 281/500\n",
            "428/428 [==============================] - 1s 3ms/step - loss: 6.3179e-05\n",
            "Epoch 282/500\n",
            "428/428 [==============================] - 1s 3ms/step - loss: 6.1199e-05\n",
            "Epoch 283/500\n",
            "428/428 [==============================] - 1s 3ms/step - loss: 6.4400e-05\n",
            "Epoch 284/500\n",
            "428/428 [==============================] - 1s 3ms/step - loss: 6.2896e-05\n",
            "Epoch 285/500\n",
            "428/428 [==============================] - 1s 3ms/step - loss: 6.1759e-05\n",
            "Epoch 286/500\n",
            "428/428 [==============================] - 1s 3ms/step - loss: 5.9418e-05\n",
            "Epoch 287/500\n",
            "428/428 [==============================] - 1s 3ms/step - loss: 6.6296e-05\n",
            "Epoch 288/500\n",
            "428/428 [==============================] - 1s 3ms/step - loss: 6.2440e-05\n",
            "Epoch 289/500\n",
            "428/428 [==============================] - 1s 3ms/step - loss: 6.2023e-05\n",
            "Epoch 290/500\n",
            "428/428 [==============================] - 1s 3ms/step - loss: 6.3205e-05\n",
            "Epoch 291/500\n",
            "428/428 [==============================] - 1s 3ms/step - loss: 6.2329e-05\n",
            "Epoch 292/500\n",
            "428/428 [==============================] - 1s 3ms/step - loss: 6.2085e-05\n",
            "Epoch 293/500\n",
            "428/428 [==============================] - 1s 3ms/step - loss: 5.9365e-05\n",
            "Epoch 294/500\n",
            "428/428 [==============================] - 1s 3ms/step - loss: 6.3939e-05\n",
            "Epoch 295/500\n",
            "428/428 [==============================] - 1s 3ms/step - loss: 6.1591e-05\n",
            "Epoch 296/500\n",
            "428/428 [==============================] - 1s 3ms/step - loss: 6.2523e-05\n",
            "Epoch 297/500\n",
            "428/428 [==============================] - 1s 3ms/step - loss: 6.0807e-05\n",
            "Epoch 298/500\n",
            "428/428 [==============================] - 1s 3ms/step - loss: 6.2825e-05\n",
            "Epoch 299/500\n",
            "428/428 [==============================] - 1s 3ms/step - loss: 6.4142e-05\n",
            "Epoch 300/500\n",
            "428/428 [==============================] - 1s 3ms/step - loss: 6.1204e-05\n",
            "Epoch 301/500\n",
            "428/428 [==============================] - 1s 3ms/step - loss: 6.6577e-05\n",
            "Epoch 302/500\n",
            "428/428 [==============================] - 1s 3ms/step - loss: 6.2273e-05\n",
            "Epoch 303/500\n",
            "428/428 [==============================] - 1s 3ms/step - loss: 6.3506e-05\n",
            "Epoch 304/500\n",
            "428/428 [==============================] - 1s 3ms/step - loss: 6.3623e-05\n",
            "Epoch 305/500\n",
            "428/428 [==============================] - 1s 3ms/step - loss: 6.0137e-05\n",
            "Epoch 306/500\n",
            "428/428 [==============================] - 1s 3ms/step - loss: 6.6040e-05\n",
            "Epoch 307/500\n",
            "428/428 [==============================] - 1s 3ms/step - loss: 6.4562e-05\n",
            "Epoch 308/500\n",
            "428/428 [==============================] - 1s 3ms/step - loss: 6.1056e-05\n",
            "Epoch 309/500\n",
            "428/428 [==============================] - 1s 3ms/step - loss: 6.0035e-05\n",
            "Epoch 310/500\n",
            "428/428 [==============================] - 1s 3ms/step - loss: 6.3051e-05\n",
            "Epoch 311/500\n",
            "428/428 [==============================] - 1s 3ms/step - loss: 6.2989e-05\n",
            "Epoch 312/500\n",
            "428/428 [==============================] - 1s 3ms/step - loss: 5.9776e-05\n",
            "Epoch 313/500\n",
            "428/428 [==============================] - 1s 3ms/step - loss: 6.2361e-05\n",
            "Epoch 314/500\n",
            "428/428 [==============================] - 1s 3ms/step - loss: 6.1508e-05\n",
            "Epoch 315/500\n",
            "428/428 [==============================] - 1s 3ms/step - loss: 6.2411e-05\n",
            "Epoch 316/500\n",
            "428/428 [==============================] - 1s 3ms/step - loss: 6.2683e-05\n",
            "Epoch 317/500\n",
            "428/428 [==============================] - 1s 3ms/step - loss: 6.1986e-05\n",
            "Epoch 318/500\n",
            "428/428 [==============================] - 1s 3ms/step - loss: 6.3760e-05\n",
            "Epoch 319/500\n",
            "428/428 [==============================] - 1s 3ms/step - loss: 6.3016e-05\n",
            "Epoch 320/500\n",
            "428/428 [==============================] - 1s 3ms/step - loss: 6.1563e-05\n",
            "Epoch 321/500\n",
            "428/428 [==============================] - 1s 3ms/step - loss: 5.9761e-05\n",
            "Epoch 322/500\n",
            "428/428 [==============================] - 1s 3ms/step - loss: 6.1438e-05\n",
            "Epoch 323/500\n",
            "428/428 [==============================] - 1s 3ms/step - loss: 6.1869e-05\n",
            "Epoch 324/500\n",
            "428/428 [==============================] - 1s 3ms/step - loss: 6.2044e-05\n",
            "Epoch 325/500\n",
            "428/428 [==============================] - 1s 3ms/step - loss: 6.0403e-05\n",
            "Epoch 326/500\n",
            "428/428 [==============================] - 1s 3ms/step - loss: 6.0902e-05\n",
            "Epoch 327/500\n",
            "428/428 [==============================] - 1s 3ms/step - loss: 6.0057e-05\n",
            "Epoch 328/500\n",
            "428/428 [==============================] - 1s 3ms/step - loss: 6.1328e-05\n",
            "Epoch 329/500\n",
            "428/428 [==============================] - 1s 3ms/step - loss: 6.1234e-05\n",
            "Epoch 330/500\n",
            "428/428 [==============================] - 1s 3ms/step - loss: 6.1960e-05\n",
            "Epoch 331/500\n",
            "428/428 [==============================] - 1s 3ms/step - loss: 6.2342e-05\n",
            "Epoch 332/500\n",
            "428/428 [==============================] - 1s 3ms/step - loss: 6.2649e-05\n",
            "Epoch 333/500\n",
            "428/428 [==============================] - 1s 3ms/step - loss: 6.3206e-05\n",
            "Epoch 334/500\n",
            "428/428 [==============================] - 1s 3ms/step - loss: 6.1367e-05\n",
            "Epoch 335/500\n",
            "428/428 [==============================] - 1s 3ms/step - loss: 6.3423e-05\n",
            "Epoch 336/500\n",
            "428/428 [==============================] - 1s 3ms/step - loss: 6.2588e-05\n",
            "Epoch 337/500\n",
            "428/428 [==============================] - 1s 3ms/step - loss: 6.4272e-05\n",
            "Epoch 338/500\n",
            "428/428 [==============================] - 1s 3ms/step - loss: 6.1271e-05\n",
            "Epoch 339/500\n",
            "428/428 [==============================] - 1s 3ms/step - loss: 6.1243e-05\n",
            "Epoch 340/500\n",
            "428/428 [==============================] - 1s 3ms/step - loss: 6.5261e-05\n",
            "Epoch 341/500\n",
            "428/428 [==============================] - 1s 3ms/step - loss: 6.1380e-05\n",
            "Epoch 342/500\n",
            "428/428 [==============================] - 1s 3ms/step - loss: 6.2225e-05\n",
            "Epoch 343/500\n",
            "428/428 [==============================] - 1s 3ms/step - loss: 6.2998e-05\n",
            "Epoch 344/500\n",
            "428/428 [==============================] - 1s 3ms/step - loss: 6.2537e-05\n",
            "Epoch 345/500\n",
            "428/428 [==============================] - 1s 3ms/step - loss: 6.2272e-05\n",
            "Epoch 346/500\n",
            "428/428 [==============================] - 1s 3ms/step - loss: 6.0714e-05\n",
            "Epoch 347/500\n",
            "428/428 [==============================] - 1s 3ms/step - loss: 6.2537e-05\n",
            "Epoch 348/500\n",
            "428/428 [==============================] - 1s 3ms/step - loss: 6.4242e-05\n",
            "Epoch 349/500\n",
            "428/428 [==============================] - 1s 3ms/step - loss: 6.0160e-05\n",
            "Epoch 350/500\n",
            "428/428 [==============================] - 1s 3ms/step - loss: 6.1000e-05\n",
            "Epoch 351/500\n",
            "428/428 [==============================] - 1s 3ms/step - loss: 5.9707e-05\n",
            "Epoch 352/500\n",
            "428/428 [==============================] - 1s 3ms/step - loss: 6.2617e-05\n",
            "Epoch 353/500\n",
            "428/428 [==============================] - 1s 3ms/step - loss: 6.1471e-05\n",
            "Epoch 354/500\n",
            "428/428 [==============================] - 1s 3ms/step - loss: 6.1705e-05\n",
            "Epoch 355/500\n",
            "428/428 [==============================] - 1s 3ms/step - loss: 6.1956e-05\n",
            "Epoch 356/500\n",
            "428/428 [==============================] - 1s 3ms/step - loss: 5.9399e-05\n",
            "Epoch 357/500\n",
            "428/428 [==============================] - 1s 3ms/step - loss: 6.2514e-05\n",
            "Epoch 358/500\n",
            "428/428 [==============================] - 1s 3ms/step - loss: 6.5632e-05\n",
            "Epoch 359/500\n",
            "428/428 [==============================] - 1s 3ms/step - loss: 6.1614e-05\n",
            "Epoch 360/500\n",
            "428/428 [==============================] - 1s 3ms/step - loss: 6.4642e-05\n",
            "Epoch 361/500\n",
            "428/428 [==============================] - 1s 3ms/step - loss: 6.1845e-05\n",
            "Epoch 362/500\n",
            "428/428 [==============================] - 1s 3ms/step - loss: 5.9963e-05\n",
            "Epoch 363/500\n",
            "428/428 [==============================] - 1s 3ms/step - loss: 6.2317e-05\n",
            "Epoch 364/500\n",
            "428/428 [==============================] - 1s 3ms/step - loss: 6.1889e-05\n",
            "Epoch 365/500\n",
            "428/428 [==============================] - 1s 3ms/step - loss: 5.9805e-05\n",
            "Epoch 366/500\n",
            "428/428 [==============================] - 1s 3ms/step - loss: 6.0715e-05\n",
            "Epoch 367/500\n",
            "428/428 [==============================] - 1s 3ms/step - loss: 6.2835e-05\n",
            "Epoch 368/500\n",
            "428/428 [==============================] - 1s 3ms/step - loss: 6.0058e-05\n",
            "Epoch 369/500\n",
            "428/428 [==============================] - 1s 3ms/step - loss: 5.8614e-05\n",
            "Epoch 370/500\n",
            "428/428 [==============================] - 1s 3ms/step - loss: 6.0853e-05\n",
            "Epoch 371/500\n",
            "428/428 [==============================] - 1s 3ms/step - loss: 6.0607e-05\n",
            "Epoch 372/500\n",
            "428/428 [==============================] - 1s 3ms/step - loss: 6.3575e-05\n",
            "Epoch 373/500\n",
            "428/428 [==============================] - 1s 3ms/step - loss: 6.1148e-05\n",
            "Epoch 374/500\n",
            "428/428 [==============================] - 1s 3ms/step - loss: 6.0048e-05\n",
            "Epoch 375/500\n",
            "428/428 [==============================] - 1s 3ms/step - loss: 6.1382e-05\n",
            "Epoch 376/500\n",
            "428/428 [==============================] - 1s 3ms/step - loss: 6.0128e-05\n",
            "Epoch 377/500\n",
            "428/428 [==============================] - 1s 3ms/step - loss: 5.9865e-05\n",
            "Epoch 378/500\n",
            "428/428 [==============================] - 2s 4ms/step - loss: 6.4750e-05\n",
            "Epoch 379/500\n",
            "428/428 [==============================] - 1s 3ms/step - loss: 6.3012e-05\n",
            "Epoch 380/500\n",
            "428/428 [==============================] - 1s 3ms/step - loss: 5.9735e-05\n",
            "Epoch 381/500\n",
            "428/428 [==============================] - 1s 3ms/step - loss: 6.3379e-05\n",
            "Epoch 382/500\n",
            "428/428 [==============================] - 1s 3ms/step - loss: 5.9726e-05\n",
            "Epoch 383/500\n",
            "428/428 [==============================] - 1s 3ms/step - loss: 5.9976e-05\n",
            "Epoch 384/500\n",
            "428/428 [==============================] - 2s 3ms/step - loss: 5.9704e-05\n",
            "Epoch 385/500\n",
            "428/428 [==============================] - 1s 3ms/step - loss: 6.1963e-05\n",
            "Epoch 386/500\n",
            "428/428 [==============================] - 1s 3ms/step - loss: 6.1158e-05\n",
            "Epoch 387/500\n",
            "428/428 [==============================] - 1s 3ms/step - loss: 6.1075e-05\n",
            "Epoch 388/500\n",
            "428/428 [==============================] - 1s 3ms/step - loss: 6.1258e-05\n",
            "Epoch 389/500\n",
            "428/428 [==============================] - 1s 3ms/step - loss: 6.0336e-05\n",
            "Epoch 390/500\n",
            "428/428 [==============================] - 1s 3ms/step - loss: 6.1230e-05\n",
            "Epoch 391/500\n",
            "428/428 [==============================] - 2s 3ms/step - loss: 6.2998e-05\n",
            "Epoch 392/500\n",
            "428/428 [==============================] - 2s 4ms/step - loss: 6.1150e-05\n",
            "Epoch 393/500\n",
            "428/428 [==============================] - 2s 4ms/step - loss: 6.0870e-05\n",
            "Epoch 394/500\n",
            "428/428 [==============================] - 2s 4ms/step - loss: 6.2732e-05\n",
            "Epoch 395/500\n",
            "428/428 [==============================] - 2s 4ms/step - loss: 6.2564e-05\n",
            "Epoch 396/500\n",
            "428/428 [==============================] - 2s 4ms/step - loss: 6.1053e-05\n",
            "Epoch 397/500\n",
            "428/428 [==============================] - 2s 4ms/step - loss: 5.9076e-05\n",
            "Epoch 398/500\n",
            "428/428 [==============================] - 2s 4ms/step - loss: 6.1056e-05\n",
            "Epoch 399/500\n",
            "428/428 [==============================] - 2s 4ms/step - loss: 6.0428e-05\n",
            "Epoch 400/500\n",
            "428/428 [==============================] - 1s 3ms/step - loss: 5.9721e-05\n",
            "Epoch 401/500\n",
            "428/428 [==============================] - 1s 3ms/step - loss: 6.2821e-05\n",
            "Epoch 402/500\n",
            "428/428 [==============================] - 1s 3ms/step - loss: 6.0750e-05\n",
            "Epoch 403/500\n",
            "428/428 [==============================] - 1s 3ms/step - loss: 6.1423e-05\n",
            "Epoch 404/500\n",
            "428/428 [==============================] - 1s 3ms/step - loss: 6.1144e-05\n",
            "Epoch 405/500\n",
            "428/428 [==============================] - 1s 3ms/step - loss: 5.9954e-05\n",
            "Epoch 406/500\n",
            "428/428 [==============================] - 1s 3ms/step - loss: 6.1141e-05\n",
            "Epoch 407/500\n",
            "428/428 [==============================] - 1s 3ms/step - loss: 5.9904e-05\n",
            "Epoch 408/500\n",
            "428/428 [==============================] - 1s 3ms/step - loss: 6.0511e-05\n",
            "Epoch 409/500\n",
            "428/428 [==============================] - 1s 3ms/step - loss: 6.2882e-05\n",
            "Epoch 410/500\n",
            "428/428 [==============================] - 1s 3ms/step - loss: 5.9141e-05\n",
            "Epoch 411/500\n",
            "428/428 [==============================] - 1s 3ms/step - loss: 5.8264e-05\n",
            "Epoch 412/500\n",
            "428/428 [==============================] - 2s 4ms/step - loss: 6.0785e-05\n",
            "Epoch 413/500\n",
            "428/428 [==============================] - 1s 3ms/step - loss: 6.0393e-05\n",
            "Epoch 414/500\n",
            "428/428 [==============================] - 1s 3ms/step - loss: 5.9287e-05\n",
            "Epoch 415/500\n",
            "428/428 [==============================] - 1s 3ms/step - loss: 6.3971e-05\n",
            "Epoch 416/500\n",
            "428/428 [==============================] - 1s 3ms/step - loss: 5.9941e-05\n",
            "Epoch 417/500\n",
            "428/428 [==============================] - 2s 3ms/step - loss: 5.9426e-05\n",
            "Epoch 418/500\n",
            "428/428 [==============================] - 2s 4ms/step - loss: 5.9682e-05\n",
            "Epoch 419/500\n",
            "428/428 [==============================] - 1s 3ms/step - loss: 6.2243e-05\n",
            "Epoch 420/500\n",
            "428/428 [==============================] - 1s 3ms/step - loss: 6.0200e-05\n",
            "Epoch 421/500\n",
            "428/428 [==============================] - 2s 3ms/step - loss: 6.0433e-05\n",
            "Epoch 422/500\n",
            "428/428 [==============================] - 1s 3ms/step - loss: 6.2376e-05\n",
            "Epoch 423/500\n",
            "428/428 [==============================] - 1s 3ms/step - loss: 6.0590e-05\n",
            "Epoch 424/500\n",
            "428/428 [==============================] - 1s 3ms/step - loss: 6.2606e-05\n",
            "Epoch 425/500\n",
            "428/428 [==============================] - 1s 3ms/step - loss: 6.1053e-05\n",
            "Epoch 426/500\n",
            "428/428 [==============================] - 2s 4ms/step - loss: 6.1517e-05\n",
            "Epoch 427/500\n",
            "428/428 [==============================] - 1s 3ms/step - loss: 6.0184e-05\n",
            "Epoch 428/500\n",
            "428/428 [==============================] - 2s 4ms/step - loss: 6.1339e-05\n",
            "Epoch 429/500\n",
            "428/428 [==============================] - 1s 3ms/step - loss: 6.1797e-05\n",
            "Epoch 430/500\n",
            "428/428 [==============================] - 2s 4ms/step - loss: 5.9988e-05\n",
            "Epoch 431/500\n",
            "428/428 [==============================] - 2s 3ms/step - loss: 6.0998e-05\n",
            "Epoch 432/500\n",
            "428/428 [==============================] - 1s 3ms/step - loss: 6.2280e-05\n",
            "Epoch 433/500\n",
            "428/428 [==============================] - 2s 4ms/step - loss: 6.2045e-05\n",
            "Epoch 434/500\n",
            "428/428 [==============================] - 2s 4ms/step - loss: 6.0342e-05\n",
            "Epoch 435/500\n",
            "428/428 [==============================] - 1s 3ms/step - loss: 6.1166e-05\n",
            "Epoch 436/500\n",
            "428/428 [==============================] - 2s 4ms/step - loss: 6.6232e-05\n",
            "Epoch 437/500\n",
            "428/428 [==============================] - 1s 3ms/step - loss: 6.0110e-05\n",
            "Epoch 438/500\n",
            "428/428 [==============================] - 2s 4ms/step - loss: 6.0108e-05\n",
            "Epoch 439/500\n",
            "428/428 [==============================] - 2s 4ms/step - loss: 6.0407e-05\n",
            "Epoch 440/500\n",
            "428/428 [==============================] - 2s 4ms/step - loss: 6.0934e-05\n",
            "Epoch 441/500\n",
            "428/428 [==============================] - 1s 3ms/step - loss: 5.8890e-05\n",
            "Epoch 442/500\n",
            "428/428 [==============================] - 2s 4ms/step - loss: 6.1692e-05\n",
            "Epoch 443/500\n",
            "428/428 [==============================] - 2s 3ms/step - loss: 6.0363e-05\n",
            "Epoch 444/500\n",
            "428/428 [==============================] - 2s 4ms/step - loss: 6.1498e-05\n",
            "Epoch 445/500\n",
            "428/428 [==============================] - 1s 3ms/step - loss: 6.3753e-05\n",
            "Epoch 446/500\n",
            "428/428 [==============================] - 2s 4ms/step - loss: 6.0874e-05\n",
            "Epoch 447/500\n",
            "428/428 [==============================] - 2s 4ms/step - loss: 6.2439e-05\n",
            "Epoch 448/500\n",
            "428/428 [==============================] - 2s 4ms/step - loss: 6.2989e-05\n",
            "Epoch 449/500\n",
            "428/428 [==============================] - 1s 3ms/step - loss: 6.1906e-05\n",
            "Epoch 450/500\n",
            "428/428 [==============================] - 2s 4ms/step - loss: 6.1062e-05\n",
            "Epoch 451/500\n",
            "428/428 [==============================] - 1s 3ms/step - loss: 6.1246e-05\n",
            "Epoch 452/500\n",
            "428/428 [==============================] - 1s 3ms/step - loss: 6.1428e-05\n",
            "Epoch 453/500\n",
            "428/428 [==============================] - 2s 4ms/step - loss: 5.9631e-05\n",
            "Epoch 454/500\n",
            "428/428 [==============================] - 2s 3ms/step - loss: 6.0313e-05\n",
            "Epoch 455/500\n",
            "428/428 [==============================] - 1s 3ms/step - loss: 6.1734e-05\n",
            "Epoch 456/500\n",
            "428/428 [==============================] - 2s 4ms/step - loss: 6.0166e-05\n",
            "Epoch 457/500\n",
            "428/428 [==============================] - 2s 4ms/step - loss: 6.2169e-05\n",
            "Epoch 458/500\n",
            "428/428 [==============================] - 2s 4ms/step - loss: 5.8577e-05\n",
            "Epoch 459/500\n",
            "428/428 [==============================] - 2s 4ms/step - loss: 6.0937e-05\n",
            "Epoch 460/500\n",
            "428/428 [==============================] - 2s 3ms/step - loss: 5.9850e-05\n",
            "Epoch 461/500\n",
            "428/428 [==============================] - 1s 3ms/step - loss: 6.2167e-05\n",
            "Epoch 462/500\n",
            "428/428 [==============================] - 1s 3ms/step - loss: 5.9340e-05\n",
            "Epoch 463/500\n",
            "428/428 [==============================] - 1s 3ms/step - loss: 5.9449e-05\n",
            "Epoch 464/500\n",
            "428/428 [==============================] - 1s 3ms/step - loss: 6.2226e-05\n",
            "Epoch 465/500\n",
            "428/428 [==============================] - 2s 4ms/step - loss: 5.9893e-05\n",
            "Epoch 466/500\n",
            "428/428 [==============================] - 2s 4ms/step - loss: 6.0937e-05\n",
            "Epoch 467/500\n",
            "428/428 [==============================] - 1s 3ms/step - loss: 5.9798e-05\n",
            "Epoch 468/500\n",
            "428/428 [==============================] - 2s 4ms/step - loss: 6.0424e-05\n",
            "Epoch 469/500\n",
            "428/428 [==============================] - 2s 4ms/step - loss: 6.1590e-05\n",
            "Epoch 470/500\n",
            "428/428 [==============================] - 2s 4ms/step - loss: 6.2225e-05\n",
            "Epoch 471/500\n",
            "428/428 [==============================] - 2s 4ms/step - loss: 5.9634e-05\n",
            "Epoch 472/500\n",
            "428/428 [==============================] - 2s 3ms/step - loss: 6.0166e-05\n",
            "Epoch 473/500\n",
            "428/428 [==============================] - 2s 4ms/step - loss: 5.9422e-05\n",
            "Epoch 474/500\n",
            "428/428 [==============================] - 2s 4ms/step - loss: 6.0964e-05\n",
            "Epoch 475/500\n",
            "428/428 [==============================] - 2s 4ms/step - loss: 5.8528e-05\n",
            "Epoch 476/500\n",
            "428/428 [==============================] - 2s 4ms/step - loss: 5.9684e-05\n",
            "Epoch 477/500\n",
            "428/428 [==============================] - 2s 4ms/step - loss: 6.1243e-05\n",
            "Epoch 478/500\n",
            "428/428 [==============================] - 2s 4ms/step - loss: 5.8869e-05\n",
            "Epoch 479/500\n",
            "428/428 [==============================] - 2s 4ms/step - loss: 6.0536e-05\n",
            "Epoch 480/500\n",
            "428/428 [==============================] - 2s 4ms/step - loss: 6.3343e-05\n",
            "Epoch 481/500\n",
            "428/428 [==============================] - 2s 4ms/step - loss: 6.2387e-05\n",
            "Epoch 482/500\n",
            "428/428 [==============================] - 2s 4ms/step - loss: 6.3031e-05\n",
            "Epoch 483/500\n",
            "428/428 [==============================] - 2s 4ms/step - loss: 5.8020e-05\n",
            "Epoch 484/500\n",
            "428/428 [==============================] - 2s 4ms/step - loss: 5.6715e-05\n",
            "Epoch 485/500\n",
            "428/428 [==============================] - 2s 4ms/step - loss: 6.2004e-05\n",
            "Epoch 486/500\n",
            "428/428 [==============================] - 2s 4ms/step - loss: 6.5163e-05\n",
            "Epoch 487/500\n",
            "428/428 [==============================] - 2s 4ms/step - loss: 6.3463e-05\n",
            "Epoch 488/500\n",
            "428/428 [==============================] - 2s 4ms/step - loss: 6.2273e-05\n",
            "Epoch 489/500\n",
            "428/428 [==============================] - 2s 3ms/step - loss: 6.1638e-05\n",
            "Epoch 490/500\n",
            "428/428 [==============================] - 2s 4ms/step - loss: 6.1092e-05\n",
            "Epoch 491/500\n",
            "428/428 [==============================] - 2s 4ms/step - loss: 5.8730e-05\n",
            "Epoch 492/500\n",
            "428/428 [==============================] - 2s 4ms/step - loss: 6.0966e-05\n",
            "Epoch 493/500\n",
            "428/428 [==============================] - 2s 4ms/step - loss: 6.2620e-05\n",
            "Epoch 494/500\n",
            "428/428 [==============================] - 2s 4ms/step - loss: 6.0000e-05\n",
            "Epoch 495/500\n",
            "428/428 [==============================] - 2s 4ms/step - loss: 5.8250e-05\n",
            "Epoch 496/500\n",
            "428/428 [==============================] - 2s 4ms/step - loss: 6.1315e-05\n",
            "Epoch 497/500\n",
            "428/428 [==============================] - 2s 4ms/step - loss: 6.1115e-05\n",
            "Epoch 498/500\n",
            "428/428 [==============================] - 2s 4ms/step - loss: 5.9752e-05\n",
            "Epoch 499/500\n",
            "428/428 [==============================] - 2s 4ms/step - loss: 6.0456e-05\n",
            "Epoch 500/500\n",
            "428/428 [==============================] - 2s 4ms/step - loss: 6.0808e-05\n"
          ]
        }
      ]
    },
    {
      "cell_type": "code",
      "source": [
        "predicted = model.predict(xtest)"
      ],
      "metadata": {
        "id": "niaLm4inMdhL"
      },
      "execution_count": 70,
      "outputs": []
    },
    {
      "cell_type": "code",
      "source": [
        "combined_array = np.concatenate((ytest, predicted), axis = 1)"
      ],
      "metadata": {
        "id": "fnDZWuBLPTIb"
      },
      "execution_count": 71,
      "outputs": []
    },
    {
      "cell_type": "code",
      "source": [
        "plt.plot(loss.history['loss'], label='loss')\n",
        "plt.show()"
      ],
      "metadata": {
        "colab": {
          "base_uri": "https://localhost:8080/",
          "height": 276
        },
        "id": "QirS2Ul1PVGw",
        "outputId": "98489062-dbb6-48f5-d0ba-c714b6ca858e"
      },
      "execution_count": 72,
      "outputs": [
        {
          "output_type": "display_data",
          "data": {
            "text/plain": [
              "<Figure size 432x288 with 1 Axes>"
            ],
            "image/png": "[encoded data removed]"
          },
          "metadata": {
            "needs_background": "light"
          }
        }
      ]
    },
    {
      "cell_type": "markdown",
      "source": [
        "# Evaluate the model"
      ],
      "metadata": {
        "id": "K49jQoniPqbe"
      }
    },
    {
      "cell_type": "code",
      "source": [
        "import sklearn.metrics as metrics"
      ],
      "metadata": {
        "id": "7GI-1pIxPftc"
      },
      "execution_count": 66,
      "outputs": []
    },
    {
      "cell_type": "code",
      "source": [
        "plt.figure(figsize=(16,6))\n",
        "plt.plot(combined_array[:,0],color='red', label='actual')\n",
        "plt.plot(combined_array[:,1],color='blue', label='predicted')\n",
        "plt.legend(loc = 'lower right')\n",
        "plt.title('2017 Actual vs. Predicted APPL Stock')\n",
        "plt.xlabel('Days')\n",
        "plt.ylabel('Scaled Quotes')\n",
        "plt.show()"
      ],
      "metadata": {
        "colab": {
          "base_uri": "https://localhost:8080/",
          "height": 404
        },
        "id": "Qp_NPjQUPyIJ",
        "outputId": "146c5ee4-ccb1-4086-fe18-896bcd75de96"
      },
      "execution_count": 73,
      "outputs": [
        {
          "output_type": "display_data",
          "data": {
            "text/plain": [
              "<Figure size 1152x432 with 1 Axes>"
            ],
            "image/png": "[encoded data removed]"
          },
          "metadata": {
            "needs_background": "light"
          }
        }
      ]
    },
    {
      "cell_type": "code",
      "source": [
        "np.sqrt(metrics.mean_squared_error(ytest,predicted))"
      ],
      "metadata": {
        "colab": {
          "base_uri": "https://localhost:8080/"
        },
        "id": "csykv6_ePz1B",
        "outputId": "8c125e6f-cb83-4828-f964-2b14a310befa"
      },
      "execution_count": 74,
      "outputs": [
        {
          "output_type": "execute_result",
          "data": {
            "text/plain": [
              "1.3183237424011816"
            ]
          },
          "metadata": {},
          "execution_count": 74
        }
      ]
    },
    {
      "cell_type": "code",
      "source": [
        ""
      ],
      "metadata": {
        "id": "IwugJ08xP4Vl"
      },
      "execution_count": null,
      "outputs": []
    }
  ]
}